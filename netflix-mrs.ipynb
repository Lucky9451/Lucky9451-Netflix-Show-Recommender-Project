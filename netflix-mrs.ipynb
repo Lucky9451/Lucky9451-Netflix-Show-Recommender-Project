{
 "cells": [
  {
   "cell_type": "code",
   "execution_count": 1,
   "id": "0faf291e",
   "metadata": {},
   "outputs": [],
   "source": [
    "import numpy as np \n",
    "import pandas as pd"
   ]
  },
  {
   "cell_type": "code",
   "execution_count": 2,
   "id": "ba33d5cc",
   "metadata": {},
   "outputs": [],
   "source": [
    "netflix=pd.read_csv('Dataset\\netflix_titles.csv')"
   ]
  },
  {
   "cell_type": "code",
   "execution_count": 3,
   "id": "7915f246",
   "metadata": {
    "scrolled": true
   },
   "outputs": [
    {
     "data": {
      "text/html": [
       "<div>\n",
       "<style scoped>\n",
       "    .dataframe tbody tr th:only-of-type {\n",
       "        vertical-align: middle;\n",
       "    }\n",
       "\n",
       "    .dataframe tbody tr th {\n",
       "        vertical-align: top;\n",
       "    }\n",
       "\n",
       "    .dataframe thead th {\n",
       "        text-align: right;\n",
       "    }\n",
       "</style>\n",
       "<table border=\"1\" class=\"dataframe\">\n",
       "  <thead>\n",
       "    <tr style=\"text-align: right;\">\n",
       "      <th></th>\n",
       "      <th>show_id</th>\n",
       "      <th>type</th>\n",
       "      <th>title</th>\n",
       "      <th>director</th>\n",
       "      <th>cast</th>\n",
       "      <th>country</th>\n",
       "      <th>date_added</th>\n",
       "      <th>release_year</th>\n",
       "      <th>rating</th>\n",
       "      <th>duration</th>\n",
       "      <th>listed_in</th>\n",
       "      <th>description</th>\n",
       "    </tr>\n",
       "  </thead>\n",
       "  <tbody>\n",
       "    <tr>\n",
       "      <th>0</th>\n",
       "      <td>s1</td>\n",
       "      <td>Movie</td>\n",
       "      <td>Dick Johnson Is Dead</td>\n",
       "      <td>Kirsten Johnson</td>\n",
       "      <td>NaN</td>\n",
       "      <td>United States</td>\n",
       "      <td>September 25, 2021</td>\n",
       "      <td>2020</td>\n",
       "      <td>PG-13</td>\n",
       "      <td>90 min</td>\n",
       "      <td>Documentaries</td>\n",
       "      <td>As her father nears the end of his life, filmm...</td>\n",
       "    </tr>\n",
       "    <tr>\n",
       "      <th>1</th>\n",
       "      <td>s2</td>\n",
       "      <td>TV Show</td>\n",
       "      <td>Blood &amp; Water</td>\n",
       "      <td>NaN</td>\n",
       "      <td>Ama Qamata, Khosi Ngema, Gail Mabalane, Thaban...</td>\n",
       "      <td>South Africa</td>\n",
       "      <td>September 24, 2021</td>\n",
       "      <td>2021</td>\n",
       "      <td>TV-MA</td>\n",
       "      <td>2 Seasons</td>\n",
       "      <td>International TV Shows, TV Dramas, TV Mysteries</td>\n",
       "      <td>After crossing paths at a party, a Cape Town t...</td>\n",
       "    </tr>\n",
       "    <tr>\n",
       "      <th>2</th>\n",
       "      <td>s3</td>\n",
       "      <td>TV Show</td>\n",
       "      <td>Ganglands</td>\n",
       "      <td>Julien Leclercq</td>\n",
       "      <td>Sami Bouajila, Tracy Gotoas, Samuel Jouy, Nabi...</td>\n",
       "      <td>NaN</td>\n",
       "      <td>September 24, 2021</td>\n",
       "      <td>2021</td>\n",
       "      <td>TV-MA</td>\n",
       "      <td>1 Season</td>\n",
       "      <td>Crime TV Shows, International TV Shows, TV Act...</td>\n",
       "      <td>To protect his family from a powerful drug lor...</td>\n",
       "    </tr>\n",
       "    <tr>\n",
       "      <th>3</th>\n",
       "      <td>s4</td>\n",
       "      <td>TV Show</td>\n",
       "      <td>Jailbirds New Orleans</td>\n",
       "      <td>NaN</td>\n",
       "      <td>NaN</td>\n",
       "      <td>NaN</td>\n",
       "      <td>September 24, 2021</td>\n",
       "      <td>2021</td>\n",
       "      <td>TV-MA</td>\n",
       "      <td>1 Season</td>\n",
       "      <td>Docuseries, Reality TV</td>\n",
       "      <td>Feuds, flirtations and toilet talk go down amo...</td>\n",
       "    </tr>\n",
       "    <tr>\n",
       "      <th>4</th>\n",
       "      <td>s5</td>\n",
       "      <td>TV Show</td>\n",
       "      <td>Kota Factory</td>\n",
       "      <td>NaN</td>\n",
       "      <td>Mayur More, Jitendra Kumar, Ranjan Raj, Alam K...</td>\n",
       "      <td>India</td>\n",
       "      <td>September 24, 2021</td>\n",
       "      <td>2021</td>\n",
       "      <td>TV-MA</td>\n",
       "      <td>2 Seasons</td>\n",
       "      <td>International TV Shows, Romantic TV Shows, TV ...</td>\n",
       "      <td>In a city of coaching centers known to train I...</td>\n",
       "    </tr>\n",
       "    <tr>\n",
       "      <th>5</th>\n",
       "      <td>s6</td>\n",
       "      <td>TV Show</td>\n",
       "      <td>Midnight Mass</td>\n",
       "      <td>Mike Flanagan</td>\n",
       "      <td>Kate Siegel, Zach Gilford, Hamish Linklater, H...</td>\n",
       "      <td>NaN</td>\n",
       "      <td>September 24, 2021</td>\n",
       "      <td>2021</td>\n",
       "      <td>TV-MA</td>\n",
       "      <td>1 Season</td>\n",
       "      <td>TV Dramas, TV Horror, TV Mysteries</td>\n",
       "      <td>The arrival of a charismatic young priest brin...</td>\n",
       "    </tr>\n",
       "    <tr>\n",
       "      <th>6</th>\n",
       "      <td>s7</td>\n",
       "      <td>Movie</td>\n",
       "      <td>My Little Pony: A New Generation</td>\n",
       "      <td>Robert Cullen, José Luis Ucha</td>\n",
       "      <td>Vanessa Hudgens, Kimiko Glenn, James Marsden, ...</td>\n",
       "      <td>NaN</td>\n",
       "      <td>September 24, 2021</td>\n",
       "      <td>2021</td>\n",
       "      <td>PG</td>\n",
       "      <td>91 min</td>\n",
       "      <td>Children &amp; Family Movies</td>\n",
       "      <td>Equestria's divided. But a bright-eyed hero be...</td>\n",
       "    </tr>\n",
       "    <tr>\n",
       "      <th>7</th>\n",
       "      <td>s8</td>\n",
       "      <td>Movie</td>\n",
       "      <td>Sankofa</td>\n",
       "      <td>Haile Gerima</td>\n",
       "      <td>Kofi Ghanaba, Oyafunmike Ogunlano, Alexandra D...</td>\n",
       "      <td>United States, Ghana, Burkina Faso, United Kin...</td>\n",
       "      <td>September 24, 2021</td>\n",
       "      <td>1993</td>\n",
       "      <td>TV-MA</td>\n",
       "      <td>125 min</td>\n",
       "      <td>Dramas, Independent Movies, International Movies</td>\n",
       "      <td>On a photo shoot in Ghana, an American model s...</td>\n",
       "    </tr>\n",
       "    <tr>\n",
       "      <th>8</th>\n",
       "      <td>s9</td>\n",
       "      <td>TV Show</td>\n",
       "      <td>The Great British Baking Show</td>\n",
       "      <td>Andy Devonshire</td>\n",
       "      <td>Mel Giedroyc, Sue Perkins, Mary Berry, Paul Ho...</td>\n",
       "      <td>United Kingdom</td>\n",
       "      <td>September 24, 2021</td>\n",
       "      <td>2021</td>\n",
       "      <td>TV-14</td>\n",
       "      <td>9 Seasons</td>\n",
       "      <td>British TV Shows, Reality TV</td>\n",
       "      <td>A talented batch of amateur bakers face off in...</td>\n",
       "    </tr>\n",
       "    <tr>\n",
       "      <th>9</th>\n",
       "      <td>s10</td>\n",
       "      <td>Movie</td>\n",
       "      <td>The Starling</td>\n",
       "      <td>Theodore Melfi</td>\n",
       "      <td>Melissa McCarthy, Chris O'Dowd, Kevin Kline, T...</td>\n",
       "      <td>United States</td>\n",
       "      <td>September 24, 2021</td>\n",
       "      <td>2021</td>\n",
       "      <td>PG-13</td>\n",
       "      <td>104 min</td>\n",
       "      <td>Comedies, Dramas</td>\n",
       "      <td>A woman adjusting to life after a loss contend...</td>\n",
       "    </tr>\n",
       "  </tbody>\n",
       "</table>\n",
       "</div>"
      ],
      "text/plain": [
       "  show_id     type                             title   \n",
       "0      s1    Movie              Dick Johnson Is Dead  \\\n",
       "1      s2  TV Show                     Blood & Water   \n",
       "2      s3  TV Show                         Ganglands   \n",
       "3      s4  TV Show             Jailbirds New Orleans   \n",
       "4      s5  TV Show                      Kota Factory   \n",
       "5      s6  TV Show                     Midnight Mass   \n",
       "6      s7    Movie  My Little Pony: A New Generation   \n",
       "7      s8    Movie                           Sankofa   \n",
       "8      s9  TV Show     The Great British Baking Show   \n",
       "9     s10    Movie                      The Starling   \n",
       "\n",
       "                        director   \n",
       "0                Kirsten Johnson  \\\n",
       "1                            NaN   \n",
       "2                Julien Leclercq   \n",
       "3                            NaN   \n",
       "4                            NaN   \n",
       "5                  Mike Flanagan   \n",
       "6  Robert Cullen, José Luis Ucha   \n",
       "7                   Haile Gerima   \n",
       "8                Andy Devonshire   \n",
       "9                 Theodore Melfi   \n",
       "\n",
       "                                                cast   \n",
       "0                                                NaN  \\\n",
       "1  Ama Qamata, Khosi Ngema, Gail Mabalane, Thaban...   \n",
       "2  Sami Bouajila, Tracy Gotoas, Samuel Jouy, Nabi...   \n",
       "3                                                NaN   \n",
       "4  Mayur More, Jitendra Kumar, Ranjan Raj, Alam K...   \n",
       "5  Kate Siegel, Zach Gilford, Hamish Linklater, H...   \n",
       "6  Vanessa Hudgens, Kimiko Glenn, James Marsden, ...   \n",
       "7  Kofi Ghanaba, Oyafunmike Ogunlano, Alexandra D...   \n",
       "8  Mel Giedroyc, Sue Perkins, Mary Berry, Paul Ho...   \n",
       "9  Melissa McCarthy, Chris O'Dowd, Kevin Kline, T...   \n",
       "\n",
       "                                             country          date_added   \n",
       "0                                      United States  September 25, 2021  \\\n",
       "1                                       South Africa  September 24, 2021   \n",
       "2                                                NaN  September 24, 2021   \n",
       "3                                                NaN  September 24, 2021   \n",
       "4                                              India  September 24, 2021   \n",
       "5                                                NaN  September 24, 2021   \n",
       "6                                                NaN  September 24, 2021   \n",
       "7  United States, Ghana, Burkina Faso, United Kin...  September 24, 2021   \n",
       "8                                     United Kingdom  September 24, 2021   \n",
       "9                                      United States  September 24, 2021   \n",
       "\n",
       "   release_year rating   duration   \n",
       "0          2020  PG-13     90 min  \\\n",
       "1          2021  TV-MA  2 Seasons   \n",
       "2          2021  TV-MA   1 Season   \n",
       "3          2021  TV-MA   1 Season   \n",
       "4          2021  TV-MA  2 Seasons   \n",
       "5          2021  TV-MA   1 Season   \n",
       "6          2021     PG     91 min   \n",
       "7          1993  TV-MA    125 min   \n",
       "8          2021  TV-14  9 Seasons   \n",
       "9          2021  PG-13    104 min   \n",
       "\n",
       "                                           listed_in   \n",
       "0                                      Documentaries  \\\n",
       "1    International TV Shows, TV Dramas, TV Mysteries   \n",
       "2  Crime TV Shows, International TV Shows, TV Act...   \n",
       "3                             Docuseries, Reality TV   \n",
       "4  International TV Shows, Romantic TV Shows, TV ...   \n",
       "5                 TV Dramas, TV Horror, TV Mysteries   \n",
       "6                           Children & Family Movies   \n",
       "7   Dramas, Independent Movies, International Movies   \n",
       "8                       British TV Shows, Reality TV   \n",
       "9                                   Comedies, Dramas   \n",
       "\n",
       "                                         description  \n",
       "0  As her father nears the end of his life, filmm...  \n",
       "1  After crossing paths at a party, a Cape Town t...  \n",
       "2  To protect his family from a powerful drug lor...  \n",
       "3  Feuds, flirtations and toilet talk go down amo...  \n",
       "4  In a city of coaching centers known to train I...  \n",
       "5  The arrival of a charismatic young priest brin...  \n",
       "6  Equestria's divided. But a bright-eyed hero be...  \n",
       "7  On a photo shoot in Ghana, an American model s...  \n",
       "8  A talented batch of amateur bakers face off in...  \n",
       "9  A woman adjusting to life after a loss contend...  "
      ]
     },
     "execution_count": 3,
     "metadata": {},
     "output_type": "execute_result"
    }
   ],
   "source": [
    "netflix.head(10)"
   ]
  },
  {
   "cell_type": "code",
   "execution_count": 4,
   "id": "9a0b4fa3",
   "metadata": {},
   "outputs": [
    {
     "data": {
      "text/plain": [
       "show_id            0\n",
       "type               0\n",
       "title              0\n",
       "director        2634\n",
       "cast             825\n",
       "country          831\n",
       "date_added        10\n",
       "release_year       0\n",
       "rating             4\n",
       "duration           3\n",
       "listed_in          0\n",
       "description        0\n",
       "dtype: int64"
      ]
     },
     "execution_count": 4,
     "metadata": {},
     "output_type": "execute_result"
    }
   ],
   "source": [
    "#missing values\n",
    "netflix.isnull().sum()"
   ]
  },
  {
   "cell_type": "code",
   "execution_count": 5,
   "id": "bef61fca",
   "metadata": {},
   "outputs": [
    {
     "data": {
      "text/plain": [
       "(8807, 12)"
      ]
     },
     "execution_count": 5,
     "metadata": {},
     "output_type": "execute_result"
    }
   ],
   "source": [
    "netflix.shape"
   ]
  },
  {
   "cell_type": "code",
   "execution_count": 6,
   "id": "67eccbc9",
   "metadata": {},
   "outputs": [],
   "source": [
    "netflix.dropna(inplace=True)"
   ]
  },
  {
   "cell_type": "code",
   "execution_count": 7,
   "id": "40b891e4",
   "metadata": {},
   "outputs": [
    {
     "data": {
      "text/plain": [
       "show_id         0\n",
       "type            0\n",
       "title           0\n",
       "director        0\n",
       "cast            0\n",
       "country         0\n",
       "date_added      0\n",
       "release_year    0\n",
       "rating          0\n",
       "duration        0\n",
       "listed_in       0\n",
       "description     0\n",
       "dtype: int64"
      ]
     },
     "execution_count": 7,
     "metadata": {},
     "output_type": "execute_result"
    }
   ],
   "source": [
    "netflix.isnull().sum()"
   ]
  },
  {
   "cell_type": "code",
   "execution_count": 8,
   "id": "6ee28360",
   "metadata": {},
   "outputs": [
    {
     "data": {
      "text/plain": [
       "(5332, 12)"
      ]
     },
     "execution_count": 8,
     "metadata": {},
     "output_type": "execute_result"
    }
   ],
   "source": [
    "netflix.shape"
   ]
  },
  {
   "cell_type": "code",
   "execution_count": 9,
   "id": "d34da4e5",
   "metadata": {},
   "outputs": [
    {
     "data": {
      "text/plain": [
       "0"
      ]
     },
     "execution_count": 9,
     "metadata": {},
     "output_type": "execute_result"
    }
   ],
   "source": [
    "netflix.duplicated().sum()"
   ]
  },
  {
   "cell_type": "code",
   "execution_count": 10,
   "id": "e609ad3d",
   "metadata": {
    "scrolled": true
   },
   "outputs": [],
   "source": [
    "#drop unnessary feature\n",
    "netflix = netflix.drop(['release_year','rating','duration','country','date_added','type'], axis=1)"
   ]
  },
  {
   "cell_type": "code",
   "execution_count": 11,
   "id": "1eb4abef",
   "metadata": {
    "scrolled": true
   },
   "outputs": [
    {
     "data": {
      "text/html": [
       "<div>\n",
       "<style scoped>\n",
       "    .dataframe tbody tr th:only-of-type {\n",
       "        vertical-align: middle;\n",
       "    }\n",
       "\n",
       "    .dataframe tbody tr th {\n",
       "        vertical-align: top;\n",
       "    }\n",
       "\n",
       "    .dataframe thead th {\n",
       "        text-align: right;\n",
       "    }\n",
       "</style>\n",
       "<table border=\"1\" class=\"dataframe\">\n",
       "  <thead>\n",
       "    <tr style=\"text-align: right;\">\n",
       "      <th></th>\n",
       "      <th>show_id</th>\n",
       "      <th>title</th>\n",
       "      <th>director</th>\n",
       "      <th>cast</th>\n",
       "      <th>listed_in</th>\n",
       "      <th>description</th>\n",
       "    </tr>\n",
       "  </thead>\n",
       "  <tbody>\n",
       "    <tr>\n",
       "      <th>7</th>\n",
       "      <td>s8</td>\n",
       "      <td>Sankofa</td>\n",
       "      <td>Haile Gerima</td>\n",
       "      <td>Kofi Ghanaba, Oyafunmike Ogunlano, Alexandra D...</td>\n",
       "      <td>Dramas, Independent Movies, International Movies</td>\n",
       "      <td>On a photo shoot in Ghana, an American model s...</td>\n",
       "    </tr>\n",
       "    <tr>\n",
       "      <th>8</th>\n",
       "      <td>s9</td>\n",
       "      <td>The Great British Baking Show</td>\n",
       "      <td>Andy Devonshire</td>\n",
       "      <td>Mel Giedroyc, Sue Perkins, Mary Berry, Paul Ho...</td>\n",
       "      <td>British TV Shows, Reality TV</td>\n",
       "      <td>A talented batch of amateur bakers face off in...</td>\n",
       "    </tr>\n",
       "    <tr>\n",
       "      <th>9</th>\n",
       "      <td>s10</td>\n",
       "      <td>The Starling</td>\n",
       "      <td>Theodore Melfi</td>\n",
       "      <td>Melissa McCarthy, Chris O'Dowd, Kevin Kline, T...</td>\n",
       "      <td>Comedies, Dramas</td>\n",
       "      <td>A woman adjusting to life after a loss contend...</td>\n",
       "    </tr>\n",
       "    <tr>\n",
       "      <th>12</th>\n",
       "      <td>s13</td>\n",
       "      <td>Je Suis Karl</td>\n",
       "      <td>Christian Schwochow</td>\n",
       "      <td>Luna Wedler, Jannis Niewöhner, Milan Peschel, ...</td>\n",
       "      <td>Dramas, International Movies</td>\n",
       "      <td>After most of her family is murdered in a terr...</td>\n",
       "    </tr>\n",
       "    <tr>\n",
       "      <th>24</th>\n",
       "      <td>s25</td>\n",
       "      <td>Jeans</td>\n",
       "      <td>S. Shankar</td>\n",
       "      <td>Prashanth, Aishwarya Rai Bachchan, Sri Lakshmi...</td>\n",
       "      <td>Comedies, International Movies, Romantic Movies</td>\n",
       "      <td>When the father of the man she loves insists t...</td>\n",
       "    </tr>\n",
       "  </tbody>\n",
       "</table>\n",
       "</div>"
      ],
      "text/plain": [
       "   show_id                          title             director   \n",
       "7       s8                        Sankofa         Haile Gerima  \\\n",
       "8       s9  The Great British Baking Show      Andy Devonshire   \n",
       "9      s10                   The Starling       Theodore Melfi   \n",
       "12     s13                   Je Suis Karl  Christian Schwochow   \n",
       "24     s25                          Jeans           S. Shankar   \n",
       "\n",
       "                                                 cast   \n",
       "7   Kofi Ghanaba, Oyafunmike Ogunlano, Alexandra D...  \\\n",
       "8   Mel Giedroyc, Sue Perkins, Mary Berry, Paul Ho...   \n",
       "9   Melissa McCarthy, Chris O'Dowd, Kevin Kline, T...   \n",
       "12  Luna Wedler, Jannis Niewöhner, Milan Peschel, ...   \n",
       "24  Prashanth, Aishwarya Rai Bachchan, Sri Lakshmi...   \n",
       "\n",
       "                                           listed_in   \n",
       "7   Dramas, Independent Movies, International Movies  \\\n",
       "8                       British TV Shows, Reality TV   \n",
       "9                                   Comedies, Dramas   \n",
       "12                      Dramas, International Movies   \n",
       "24   Comedies, International Movies, Romantic Movies   \n",
       "\n",
       "                                          description  \n",
       "7   On a photo shoot in Ghana, an American model s...  \n",
       "8   A talented batch of amateur bakers face off in...  \n",
       "9   A woman adjusting to life after a loss contend...  \n",
       "12  After most of her family is murdered in a terr...  \n",
       "24  When the father of the man she loves insists t...  "
      ]
     },
     "execution_count": 11,
     "metadata": {},
     "output_type": "execute_result"
    }
   ],
   "source": [
    "netflix.head()"
   ]
  },
  {
   "cell_type": "code",
   "execution_count": 12,
   "id": "85acf9c8",
   "metadata": {},
   "outputs": [],
   "source": [
    "netflix = netflix.reset_index(drop=True)"
   ]
  },
  {
   "cell_type": "code",
   "execution_count": 13,
   "id": "1eccdfd4",
   "metadata": {},
   "outputs": [],
   "source": [
    "def extract_first_three_casts(cast_column):\n",
    "    # Split the cast column into a list of names\n",
    "    cast_list = cast_column.split(', ')\n",
    "    \n",
    "    # Take the first three names (if available)\n",
    "    first_three_casts = cast_list[:3]\n",
    "    \n",
    "    return first_three_casts"
   ]
  },
  {
   "cell_type": "code",
   "execution_count": 14,
   "id": "1121d35e",
   "metadata": {},
   "outputs": [],
   "source": [
    "netflix['cast']=netflix['cast'].apply(extract_first_three_casts)"
   ]
  },
  {
   "cell_type": "code",
   "execution_count": 15,
   "id": "a7cb70e9",
   "metadata": {},
   "outputs": [
    {
     "data": {
      "text/html": [
       "<div>\n",
       "<style scoped>\n",
       "    .dataframe tbody tr th:only-of-type {\n",
       "        vertical-align: middle;\n",
       "    }\n",
       "\n",
       "    .dataframe tbody tr th {\n",
       "        vertical-align: top;\n",
       "    }\n",
       "\n",
       "    .dataframe thead th {\n",
       "        text-align: right;\n",
       "    }\n",
       "</style>\n",
       "<table border=\"1\" class=\"dataframe\">\n",
       "  <thead>\n",
       "    <tr style=\"text-align: right;\">\n",
       "      <th></th>\n",
       "      <th>show_id</th>\n",
       "      <th>title</th>\n",
       "      <th>director</th>\n",
       "      <th>cast</th>\n",
       "      <th>listed_in</th>\n",
       "      <th>description</th>\n",
       "    </tr>\n",
       "  </thead>\n",
       "  <tbody>\n",
       "    <tr>\n",
       "      <th>0</th>\n",
       "      <td>s8</td>\n",
       "      <td>Sankofa</td>\n",
       "      <td>Haile Gerima</td>\n",
       "      <td>[Kofi Ghanaba, Oyafunmike Ogunlano, Alexandra ...</td>\n",
       "      <td>Dramas, Independent Movies, International Movies</td>\n",
       "      <td>On a photo shoot in Ghana, an American model s...</td>\n",
       "    </tr>\n",
       "    <tr>\n",
       "      <th>1</th>\n",
       "      <td>s9</td>\n",
       "      <td>The Great British Baking Show</td>\n",
       "      <td>Andy Devonshire</td>\n",
       "      <td>[Mel Giedroyc, Sue Perkins, Mary Berry]</td>\n",
       "      <td>British TV Shows, Reality TV</td>\n",
       "      <td>A talented batch of amateur bakers face off in...</td>\n",
       "    </tr>\n",
       "    <tr>\n",
       "      <th>2</th>\n",
       "      <td>s10</td>\n",
       "      <td>The Starling</td>\n",
       "      <td>Theodore Melfi</td>\n",
       "      <td>[Melissa McCarthy, Chris O'Dowd, Kevin Kline]</td>\n",
       "      <td>Comedies, Dramas</td>\n",
       "      <td>A woman adjusting to life after a loss contend...</td>\n",
       "    </tr>\n",
       "    <tr>\n",
       "      <th>3</th>\n",
       "      <td>s13</td>\n",
       "      <td>Je Suis Karl</td>\n",
       "      <td>Christian Schwochow</td>\n",
       "      <td>[Luna Wedler, Jannis Niewöhner, Milan Peschel]</td>\n",
       "      <td>Dramas, International Movies</td>\n",
       "      <td>After most of her family is murdered in a terr...</td>\n",
       "    </tr>\n",
       "    <tr>\n",
       "      <th>4</th>\n",
       "      <td>s25</td>\n",
       "      <td>Jeans</td>\n",
       "      <td>S. Shankar</td>\n",
       "      <td>[Prashanth, Aishwarya Rai Bachchan, Sri Lakshmi]</td>\n",
       "      <td>Comedies, International Movies, Romantic Movies</td>\n",
       "      <td>When the father of the man she loves insists t...</td>\n",
       "    </tr>\n",
       "  </tbody>\n",
       "</table>\n",
       "</div>"
      ],
      "text/plain": [
       "  show_id                          title             director   \n",
       "0      s8                        Sankofa         Haile Gerima  \\\n",
       "1      s9  The Great British Baking Show      Andy Devonshire   \n",
       "2     s10                   The Starling       Theodore Melfi   \n",
       "3     s13                   Je Suis Karl  Christian Schwochow   \n",
       "4     s25                          Jeans           S. Shankar   \n",
       "\n",
       "                                                cast   \n",
       "0  [Kofi Ghanaba, Oyafunmike Ogunlano, Alexandra ...  \\\n",
       "1            [Mel Giedroyc, Sue Perkins, Mary Berry]   \n",
       "2      [Melissa McCarthy, Chris O'Dowd, Kevin Kline]   \n",
       "3     [Luna Wedler, Jannis Niewöhner, Milan Peschel]   \n",
       "4   [Prashanth, Aishwarya Rai Bachchan, Sri Lakshmi]   \n",
       "\n",
       "                                          listed_in   \n",
       "0  Dramas, Independent Movies, International Movies  \\\n",
       "1                      British TV Shows, Reality TV   \n",
       "2                                  Comedies, Dramas   \n",
       "3                      Dramas, International Movies   \n",
       "4   Comedies, International Movies, Romantic Movies   \n",
       "\n",
       "                                         description  \n",
       "0  On a photo shoot in Ghana, an American model s...  \n",
       "1  A talented batch of amateur bakers face off in...  \n",
       "2  A woman adjusting to life after a loss contend...  \n",
       "3  After most of her family is murdered in a terr...  \n",
       "4  When the father of the man she loves insists t...  "
      ]
     },
     "execution_count": 15,
     "metadata": {},
     "output_type": "execute_result"
    }
   ],
   "source": [
    "netflix.head()"
   ]
  },
  {
   "cell_type": "code",
   "execution_count": 16,
   "id": "684c0fe5",
   "metadata": {},
   "outputs": [
    {
     "data": {
      "text/plain": [
       "'Action & Adventure, Dramas'"
      ]
     },
     "execution_count": 16,
     "metadata": {},
     "output_type": "execute_result"
    }
   ],
   "source": [
    "netflix['listed_in'][8]"
   ]
  },
  {
   "cell_type": "code",
   "execution_count": 17,
   "id": "47b9b771",
   "metadata": {},
   "outputs": [],
   "source": [
    "def convert_to_list(listed_in_column):\n",
    "    # Split the listed_in column into a list of categories\n",
    "    categories_list = listed_in_column.split(', ')\n",
    "    \n",
    "    return categories_list"
   ]
  },
  {
   "cell_type": "code",
   "execution_count": 18,
   "id": "37c7249c",
   "metadata": {},
   "outputs": [],
   "source": [
    "netflix['listed_in']=netflix['listed_in'].apply(convert_to_list)"
   ]
  },
  {
   "cell_type": "code",
   "execution_count": 19,
   "id": "ba976a7b",
   "metadata": {},
   "outputs": [],
   "source": [
    "netflix['director']=netflix['director'].apply(convert_to_list)"
   ]
  },
  {
   "cell_type": "code",
   "execution_count": 20,
   "id": "7d625fdf",
   "metadata": {},
   "outputs": [],
   "source": [
    "netflix['description']=netflix['description'].apply(lambda x:x.split())"
   ]
  },
  {
   "cell_type": "code",
   "execution_count": 21,
   "id": "18bbd1b6",
   "metadata": {},
   "outputs": [
    {
     "data": {
      "text/html": [
       "<div>\n",
       "<style scoped>\n",
       "    .dataframe tbody tr th:only-of-type {\n",
       "        vertical-align: middle;\n",
       "    }\n",
       "\n",
       "    .dataframe tbody tr th {\n",
       "        vertical-align: top;\n",
       "    }\n",
       "\n",
       "    .dataframe thead th {\n",
       "        text-align: right;\n",
       "    }\n",
       "</style>\n",
       "<table border=\"1\" class=\"dataframe\">\n",
       "  <thead>\n",
       "    <tr style=\"text-align: right;\">\n",
       "      <th></th>\n",
       "      <th>show_id</th>\n",
       "      <th>title</th>\n",
       "      <th>director</th>\n",
       "      <th>cast</th>\n",
       "      <th>listed_in</th>\n",
       "      <th>description</th>\n",
       "    </tr>\n",
       "  </thead>\n",
       "  <tbody>\n",
       "    <tr>\n",
       "      <th>0</th>\n",
       "      <td>s8</td>\n",
       "      <td>Sankofa</td>\n",
       "      <td>[Haile Gerima]</td>\n",
       "      <td>[Kofi Ghanaba, Oyafunmike Ogunlano, Alexandra ...</td>\n",
       "      <td>[Dramas, Independent Movies, International Mov...</td>\n",
       "      <td>[On, a, photo, shoot, in, Ghana,, an, American...</td>\n",
       "    </tr>\n",
       "    <tr>\n",
       "      <th>1</th>\n",
       "      <td>s9</td>\n",
       "      <td>The Great British Baking Show</td>\n",
       "      <td>[Andy Devonshire]</td>\n",
       "      <td>[Mel Giedroyc, Sue Perkins, Mary Berry]</td>\n",
       "      <td>[British TV Shows, Reality TV]</td>\n",
       "      <td>[A, talented, batch, of, amateur, bakers, face...</td>\n",
       "    </tr>\n",
       "    <tr>\n",
       "      <th>2</th>\n",
       "      <td>s10</td>\n",
       "      <td>The Starling</td>\n",
       "      <td>[Theodore Melfi]</td>\n",
       "      <td>[Melissa McCarthy, Chris O'Dowd, Kevin Kline]</td>\n",
       "      <td>[Comedies, Dramas]</td>\n",
       "      <td>[A, woman, adjusting, to, life, after, a, loss...</td>\n",
       "    </tr>\n",
       "    <tr>\n",
       "      <th>3</th>\n",
       "      <td>s13</td>\n",
       "      <td>Je Suis Karl</td>\n",
       "      <td>[Christian Schwochow]</td>\n",
       "      <td>[Luna Wedler, Jannis Niewöhner, Milan Peschel]</td>\n",
       "      <td>[Dramas, International Movies]</td>\n",
       "      <td>[After, most, of, her, family, is, murdered, i...</td>\n",
       "    </tr>\n",
       "    <tr>\n",
       "      <th>4</th>\n",
       "      <td>s25</td>\n",
       "      <td>Jeans</td>\n",
       "      <td>[S. Shankar]</td>\n",
       "      <td>[Prashanth, Aishwarya Rai Bachchan, Sri Lakshmi]</td>\n",
       "      <td>[Comedies, International Movies, Romantic Movies]</td>\n",
       "      <td>[When, the, father, of, the, man, she, loves, ...</td>\n",
       "    </tr>\n",
       "  </tbody>\n",
       "</table>\n",
       "</div>"
      ],
      "text/plain": [
       "  show_id                          title               director   \n",
       "0      s8                        Sankofa         [Haile Gerima]  \\\n",
       "1      s9  The Great British Baking Show      [Andy Devonshire]   \n",
       "2     s10                   The Starling       [Theodore Melfi]   \n",
       "3     s13                   Je Suis Karl  [Christian Schwochow]   \n",
       "4     s25                          Jeans           [S. Shankar]   \n",
       "\n",
       "                                                cast   \n",
       "0  [Kofi Ghanaba, Oyafunmike Ogunlano, Alexandra ...  \\\n",
       "1            [Mel Giedroyc, Sue Perkins, Mary Berry]   \n",
       "2      [Melissa McCarthy, Chris O'Dowd, Kevin Kline]   \n",
       "3     [Luna Wedler, Jannis Niewöhner, Milan Peschel]   \n",
       "4   [Prashanth, Aishwarya Rai Bachchan, Sri Lakshmi]   \n",
       "\n",
       "                                           listed_in   \n",
       "0  [Dramas, Independent Movies, International Mov...  \\\n",
       "1                     [British TV Shows, Reality TV]   \n",
       "2                                 [Comedies, Dramas]   \n",
       "3                     [Dramas, International Movies]   \n",
       "4  [Comedies, International Movies, Romantic Movies]   \n",
       "\n",
       "                                         description  \n",
       "0  [On, a, photo, shoot, in, Ghana,, an, American...  \n",
       "1  [A, talented, batch, of, amateur, bakers, face...  \n",
       "2  [A, woman, adjusting, to, life, after, a, loss...  \n",
       "3  [After, most, of, her, family, is, murdered, i...  \n",
       "4  [When, the, father, of, the, man, she, loves, ...  "
      ]
     },
     "execution_count": 21,
     "metadata": {},
     "output_type": "execute_result"
    }
   ],
   "source": [
    "netflix.head()"
   ]
  },
  {
   "cell_type": "code",
   "execution_count": 22,
   "id": "cb280a1a",
   "metadata": {},
   "outputs": [],
   "source": [
    "netflix['director']=netflix['director'].apply(lambda x:[i.replace(\" \",\"\") for i in x])\n",
    "netflix['cast']=netflix['cast'].apply(lambda x:[i.replace(\" \",\"\") for i in x])\n",
    "netflix['listed_in']=netflix['listed_in'].apply(lambda x:[i.replace(\" \",\"\") for i in x])"
   ]
  },
  {
   "cell_type": "code",
   "execution_count": 23,
   "id": "18b6c944",
   "metadata": {},
   "outputs": [
    {
     "data": {
      "text/html": [
       "<div>\n",
       "<style scoped>\n",
       "    .dataframe tbody tr th:only-of-type {\n",
       "        vertical-align: middle;\n",
       "    }\n",
       "\n",
       "    .dataframe tbody tr th {\n",
       "        vertical-align: top;\n",
       "    }\n",
       "\n",
       "    .dataframe thead th {\n",
       "        text-align: right;\n",
       "    }\n",
       "</style>\n",
       "<table border=\"1\" class=\"dataframe\">\n",
       "  <thead>\n",
       "    <tr style=\"text-align: right;\">\n",
       "      <th></th>\n",
       "      <th>show_id</th>\n",
       "      <th>title</th>\n",
       "      <th>director</th>\n",
       "      <th>cast</th>\n",
       "      <th>listed_in</th>\n",
       "      <th>description</th>\n",
       "    </tr>\n",
       "  </thead>\n",
       "  <tbody>\n",
       "    <tr>\n",
       "      <th>0</th>\n",
       "      <td>s8</td>\n",
       "      <td>Sankofa</td>\n",
       "      <td>[HaileGerima]</td>\n",
       "      <td>[KofiGhanaba, OyafunmikeOgunlano, AlexandraDuah]</td>\n",
       "      <td>[Dramas, IndependentMovies, InternationalMovies]</td>\n",
       "      <td>[On, a, photo, shoot, in, Ghana,, an, American...</td>\n",
       "    </tr>\n",
       "    <tr>\n",
       "      <th>1</th>\n",
       "      <td>s9</td>\n",
       "      <td>The Great British Baking Show</td>\n",
       "      <td>[AndyDevonshire]</td>\n",
       "      <td>[MelGiedroyc, SuePerkins, MaryBerry]</td>\n",
       "      <td>[BritishTVShows, RealityTV]</td>\n",
       "      <td>[A, talented, batch, of, amateur, bakers, face...</td>\n",
       "    </tr>\n",
       "    <tr>\n",
       "      <th>2</th>\n",
       "      <td>s10</td>\n",
       "      <td>The Starling</td>\n",
       "      <td>[TheodoreMelfi]</td>\n",
       "      <td>[MelissaMcCarthy, ChrisO'Dowd, KevinKline]</td>\n",
       "      <td>[Comedies, Dramas]</td>\n",
       "      <td>[A, woman, adjusting, to, life, after, a, loss...</td>\n",
       "    </tr>\n",
       "    <tr>\n",
       "      <th>3</th>\n",
       "      <td>s13</td>\n",
       "      <td>Je Suis Karl</td>\n",
       "      <td>[ChristianSchwochow]</td>\n",
       "      <td>[LunaWedler, JannisNiewöhner, MilanPeschel]</td>\n",
       "      <td>[Dramas, InternationalMovies]</td>\n",
       "      <td>[After, most, of, her, family, is, murdered, i...</td>\n",
       "    </tr>\n",
       "    <tr>\n",
       "      <th>4</th>\n",
       "      <td>s25</td>\n",
       "      <td>Jeans</td>\n",
       "      <td>[S.Shankar]</td>\n",
       "      <td>[Prashanth, AishwaryaRaiBachchan, SriLakshmi]</td>\n",
       "      <td>[Comedies, InternationalMovies, RomanticMovies]</td>\n",
       "      <td>[When, the, father, of, the, man, she, loves, ...</td>\n",
       "    </tr>\n",
       "  </tbody>\n",
       "</table>\n",
       "</div>"
      ],
      "text/plain": [
       "  show_id                          title              director   \n",
       "0      s8                        Sankofa         [HaileGerima]  \\\n",
       "1      s9  The Great British Baking Show      [AndyDevonshire]   \n",
       "2     s10                   The Starling       [TheodoreMelfi]   \n",
       "3     s13                   Je Suis Karl  [ChristianSchwochow]   \n",
       "4     s25                          Jeans           [S.Shankar]   \n",
       "\n",
       "                                               cast   \n",
       "0  [KofiGhanaba, OyafunmikeOgunlano, AlexandraDuah]  \\\n",
       "1              [MelGiedroyc, SuePerkins, MaryBerry]   \n",
       "2        [MelissaMcCarthy, ChrisO'Dowd, KevinKline]   \n",
       "3       [LunaWedler, JannisNiewöhner, MilanPeschel]   \n",
       "4     [Prashanth, AishwaryaRaiBachchan, SriLakshmi]   \n",
       "\n",
       "                                          listed_in   \n",
       "0  [Dramas, IndependentMovies, InternationalMovies]  \\\n",
       "1                       [BritishTVShows, RealityTV]   \n",
       "2                                [Comedies, Dramas]   \n",
       "3                     [Dramas, InternationalMovies]   \n",
       "4   [Comedies, InternationalMovies, RomanticMovies]   \n",
       "\n",
       "                                         description  \n",
       "0  [On, a, photo, shoot, in, Ghana,, an, American...  \n",
       "1  [A, talented, batch, of, amateur, bakers, face...  \n",
       "2  [A, woman, adjusting, to, life, after, a, loss...  \n",
       "3  [After, most, of, her, family, is, murdered, i...  \n",
       "4  [When, the, father, of, the, man, she, loves, ...  "
      ]
     },
     "execution_count": 23,
     "metadata": {},
     "output_type": "execute_result"
    }
   ],
   "source": [
    "netflix.head()"
   ]
  },
  {
   "cell_type": "code",
   "execution_count": 24,
   "id": "9d86990e",
   "metadata": {},
   "outputs": [],
   "source": [
    "netflix['tags']=netflix['description']+netflix['director']+netflix['cast']+netflix['listed_in']"
   ]
  },
  {
   "cell_type": "code",
   "execution_count": 25,
   "id": "a0fa4560",
   "metadata": {},
   "outputs": [],
   "source": [
    "ntfx=netflix[['show_id','title','tags']]"
   ]
  },
  {
   "cell_type": "code",
   "execution_count": 26,
   "id": "b71cf46f",
   "metadata": {},
   "outputs": [
    {
     "data": {
      "text/html": [
       "<div>\n",
       "<style scoped>\n",
       "    .dataframe tbody tr th:only-of-type {\n",
       "        vertical-align: middle;\n",
       "    }\n",
       "\n",
       "    .dataframe tbody tr th {\n",
       "        vertical-align: top;\n",
       "    }\n",
       "\n",
       "    .dataframe thead th {\n",
       "        text-align: right;\n",
       "    }\n",
       "</style>\n",
       "<table border=\"1\" class=\"dataframe\">\n",
       "  <thead>\n",
       "    <tr style=\"text-align: right;\">\n",
       "      <th></th>\n",
       "      <th>show_id</th>\n",
       "      <th>title</th>\n",
       "      <th>tags</th>\n",
       "    </tr>\n",
       "  </thead>\n",
       "  <tbody>\n",
       "    <tr>\n",
       "      <th>0</th>\n",
       "      <td>s8</td>\n",
       "      <td>Sankofa</td>\n",
       "      <td>[On, a, photo, shoot, in, Ghana,, an, American...</td>\n",
       "    </tr>\n",
       "    <tr>\n",
       "      <th>1</th>\n",
       "      <td>s9</td>\n",
       "      <td>The Great British Baking Show</td>\n",
       "      <td>[A, talented, batch, of, amateur, bakers, face...</td>\n",
       "    </tr>\n",
       "    <tr>\n",
       "      <th>2</th>\n",
       "      <td>s10</td>\n",
       "      <td>The Starling</td>\n",
       "      <td>[A, woman, adjusting, to, life, after, a, loss...</td>\n",
       "    </tr>\n",
       "    <tr>\n",
       "      <th>3</th>\n",
       "      <td>s13</td>\n",
       "      <td>Je Suis Karl</td>\n",
       "      <td>[After, most, of, her, family, is, murdered, i...</td>\n",
       "    </tr>\n",
       "    <tr>\n",
       "      <th>4</th>\n",
       "      <td>s25</td>\n",
       "      <td>Jeans</td>\n",
       "      <td>[When, the, father, of, the, man, she, loves, ...</td>\n",
       "    </tr>\n",
       "  </tbody>\n",
       "</table>\n",
       "</div>"
      ],
      "text/plain": [
       "  show_id                          title   \n",
       "0      s8                        Sankofa  \\\n",
       "1      s9  The Great British Baking Show   \n",
       "2     s10                   The Starling   \n",
       "3     s13                   Je Suis Karl   \n",
       "4     s25                          Jeans   \n",
       "\n",
       "                                                tags  \n",
       "0  [On, a, photo, shoot, in, Ghana,, an, American...  \n",
       "1  [A, talented, batch, of, amateur, bakers, face...  \n",
       "2  [A, woman, adjusting, to, life, after, a, loss...  \n",
       "3  [After, most, of, her, family, is, murdered, i...  \n",
       "4  [When, the, father, of, the, man, she, loves, ...  "
      ]
     },
     "execution_count": 26,
     "metadata": {},
     "output_type": "execute_result"
    }
   ],
   "source": [
    "ntfx.head()"
   ]
  },
  {
   "cell_type": "code",
   "execution_count": 27,
   "id": "357b78f3",
   "metadata": {},
   "outputs": [
    {
     "name": "stderr",
     "output_type": "stream",
     "text": [
      "C:\\Users\\Lucky\\AppData\\Local\\Temp\\ipykernel_9040\\1741842344.py:1: SettingWithCopyWarning: \n",
      "A value is trying to be set on a copy of a slice from a DataFrame.\n",
      "Try using .loc[row_indexer,col_indexer] = value instead\n",
      "\n",
      "See the caveats in the documentation: https://pandas.pydata.org/pandas-docs/stable/user_guide/indexing.html#returning-a-view-versus-a-copy\n",
      "  ntfx['tags']=ntfx['tags'].apply(lambda x:\" \".join(x))\n"
     ]
    }
   ],
   "source": [
    "ntfx['tags']=ntfx['tags'].apply(lambda x:\" \".join(x))"
   ]
  },
  {
   "cell_type": "code",
   "execution_count": 28,
   "id": "e4779c77",
   "metadata": {},
   "outputs": [
    {
     "data": {
      "text/plain": [
       "\"Blackmailed by his company's CEO, a low-level employee finds himself forced to spy on the boss's rival and former mentor. RobertLuketic LiamHemsworth GaryOldman AmberHeard Thrillers\""
      ]
     },
     "execution_count": 28,
     "metadata": {},
     "output_type": "execute_result"
    }
   ],
   "source": [
    "ntfx['tags'][7]"
   ]
  },
  {
   "cell_type": "code",
   "execution_count": 29,
   "id": "fbd27e6e",
   "metadata": {},
   "outputs": [
    {
     "name": "stderr",
     "output_type": "stream",
     "text": [
      "C:\\Users\\Lucky\\AppData\\Local\\Temp\\ipykernel_9040\\1149329043.py:1: SettingWithCopyWarning: \n",
      "A value is trying to be set on a copy of a slice from a DataFrame.\n",
      "Try using .loc[row_indexer,col_indexer] = value instead\n",
      "\n",
      "See the caveats in the documentation: https://pandas.pydata.org/pandas-docs/stable/user_guide/indexing.html#returning-a-view-versus-a-copy\n",
      "  ntfx['tags']=ntfx['tags'].apply(lambda x:x.lower())\n"
     ]
    }
   ],
   "source": [
    "ntfx['tags']=ntfx['tags'].apply(lambda x:x.lower())"
   ]
  },
  {
   "cell_type": "code",
   "execution_count": 30,
   "id": "00689c36",
   "metadata": {},
   "outputs": [
    {
     "data": {
      "text/html": [
       "<div>\n",
       "<style scoped>\n",
       "    .dataframe tbody tr th:only-of-type {\n",
       "        vertical-align: middle;\n",
       "    }\n",
       "\n",
       "    .dataframe tbody tr th {\n",
       "        vertical-align: top;\n",
       "    }\n",
       "\n",
       "    .dataframe thead th {\n",
       "        text-align: right;\n",
       "    }\n",
       "</style>\n",
       "<table border=\"1\" class=\"dataframe\">\n",
       "  <thead>\n",
       "    <tr style=\"text-align: right;\">\n",
       "      <th></th>\n",
       "      <th>show_id</th>\n",
       "      <th>title</th>\n",
       "      <th>tags</th>\n",
       "    </tr>\n",
       "  </thead>\n",
       "  <tbody>\n",
       "    <tr>\n",
       "      <th>0</th>\n",
       "      <td>s8</td>\n",
       "      <td>Sankofa</td>\n",
       "      <td>on a photo shoot in ghana, an american model s...</td>\n",
       "    </tr>\n",
       "    <tr>\n",
       "      <th>1</th>\n",
       "      <td>s9</td>\n",
       "      <td>The Great British Baking Show</td>\n",
       "      <td>a talented batch of amateur bakers face off in...</td>\n",
       "    </tr>\n",
       "    <tr>\n",
       "      <th>2</th>\n",
       "      <td>s10</td>\n",
       "      <td>The Starling</td>\n",
       "      <td>a woman adjusting to life after a loss contend...</td>\n",
       "    </tr>\n",
       "    <tr>\n",
       "      <th>3</th>\n",
       "      <td>s13</td>\n",
       "      <td>Je Suis Karl</td>\n",
       "      <td>after most of her family is murdered in a terr...</td>\n",
       "    </tr>\n",
       "    <tr>\n",
       "      <th>4</th>\n",
       "      <td>s25</td>\n",
       "      <td>Jeans</td>\n",
       "      <td>when the father of the man she loves insists t...</td>\n",
       "    </tr>\n",
       "  </tbody>\n",
       "</table>\n",
       "</div>"
      ],
      "text/plain": [
       "  show_id                          title   \n",
       "0      s8                        Sankofa  \\\n",
       "1      s9  The Great British Baking Show   \n",
       "2     s10                   The Starling   \n",
       "3     s13                   Je Suis Karl   \n",
       "4     s25                          Jeans   \n",
       "\n",
       "                                                tags  \n",
       "0  on a photo shoot in ghana, an american model s...  \n",
       "1  a talented batch of amateur bakers face off in...  \n",
       "2  a woman adjusting to life after a loss contend...  \n",
       "3  after most of her family is murdered in a terr...  \n",
       "4  when the father of the man she loves insists t...  "
      ]
     },
     "execution_count": 30,
     "metadata": {},
     "output_type": "execute_result"
    }
   ],
   "source": [
    "ntfx.head()"
   ]
  },
  {
   "cell_type": "code",
   "execution_count": 31,
   "id": "38ace0f9",
   "metadata": {},
   "outputs": [],
   "source": [
    "ntflx=ntfx.copy()"
   ]
  },
  {
   "cell_type": "code",
   "execution_count": 32,
   "id": "fa1b4b56",
   "metadata": {},
   "outputs": [
    {
     "data": {
      "text/html": [
       "<div>\n",
       "<style scoped>\n",
       "    .dataframe tbody tr th:only-of-type {\n",
       "        vertical-align: middle;\n",
       "    }\n",
       "\n",
       "    .dataframe tbody tr th {\n",
       "        vertical-align: top;\n",
       "    }\n",
       "\n",
       "    .dataframe thead th {\n",
       "        text-align: right;\n",
       "    }\n",
       "</style>\n",
       "<table border=\"1\" class=\"dataframe\">\n",
       "  <thead>\n",
       "    <tr style=\"text-align: right;\">\n",
       "      <th></th>\n",
       "      <th>show_id</th>\n",
       "      <th>title</th>\n",
       "      <th>tags</th>\n",
       "    </tr>\n",
       "  </thead>\n",
       "  <tbody>\n",
       "    <tr>\n",
       "      <th>0</th>\n",
       "      <td>s8</td>\n",
       "      <td>Sankofa</td>\n",
       "      <td>on a photo shoot in ghana, an american model s...</td>\n",
       "    </tr>\n",
       "    <tr>\n",
       "      <th>1</th>\n",
       "      <td>s9</td>\n",
       "      <td>The Great British Baking Show</td>\n",
       "      <td>a talented batch of amateur bakers face off in...</td>\n",
       "    </tr>\n",
       "    <tr>\n",
       "      <th>2</th>\n",
       "      <td>s10</td>\n",
       "      <td>The Starling</td>\n",
       "      <td>a woman adjusting to life after a loss contend...</td>\n",
       "    </tr>\n",
       "    <tr>\n",
       "      <th>3</th>\n",
       "      <td>s13</td>\n",
       "      <td>Je Suis Karl</td>\n",
       "      <td>after most of her family is murdered in a terr...</td>\n",
       "    </tr>\n",
       "    <tr>\n",
       "      <th>4</th>\n",
       "      <td>s25</td>\n",
       "      <td>Jeans</td>\n",
       "      <td>when the father of the man she loves insists t...</td>\n",
       "    </tr>\n",
       "  </tbody>\n",
       "</table>\n",
       "</div>"
      ],
      "text/plain": [
       "  show_id                          title   \n",
       "0      s8                        Sankofa  \\\n",
       "1      s9  The Great British Baking Show   \n",
       "2     s10                   The Starling   \n",
       "3     s13                   Je Suis Karl   \n",
       "4     s25                          Jeans   \n",
       "\n",
       "                                                tags  \n",
       "0  on a photo shoot in ghana, an american model s...  \n",
       "1  a talented batch of amateur bakers face off in...  \n",
       "2  a woman adjusting to life after a loss contend...  \n",
       "3  after most of her family is murdered in a terr...  \n",
       "4  when the father of the man she loves insists t...  "
      ]
     },
     "execution_count": 32,
     "metadata": {},
     "output_type": "execute_result"
    }
   ],
   "source": [
    "ntflx.head()"
   ]
  },
  {
   "cell_type": "code",
   "execution_count": 33,
   "id": "eb56b80c",
   "metadata": {},
   "outputs": [],
   "source": [
    "from nltk.corpus import stopwords\n",
    "from nltk.tokenize import word_tokenize\n",
    "from nltk.stem import PorterStemmer\n",
    "import string\n",
    "\n",
    "# Loop through each row and apply data preprocessing\n",
    "for index, row in ntflx.iterrows():\n",
    "    # Tokenization and Lowercasing\n",
    "    tokens = word_tokenize(row['tags'].lower())\n",
    "\n",
    "    # Remove Punctuation and Special Characters\n",
    "    tokens = [word.translate(str.maketrans('', '', string.punctuation)) for word in tokens]\n",
    "\n",
    "    # Remove Stopwords\n",
    "    stop_words = set(stopwords.words('english'))\n",
    "    tokens = [word for word in tokens if word not in stop_words]\n",
    "\n",
    "    # Stemming\n",
    "    stemmer = PorterStemmer()\n",
    "    tokens = [stemmer.stem(word) for word in tokens]\n",
    "\n",
    "    # Join the tokens back into a string and update the 'tags' column\n",
    "    ntflx.at[index, 'tags'] = ' '.join(tokens)"
   ]
  },
  {
   "cell_type": "code",
   "execution_count": 34,
   "id": "3d2a780a",
   "metadata": {},
   "outputs": [
    {
     "data": {
      "text/html": [
       "<div>\n",
       "<style scoped>\n",
       "    .dataframe tbody tr th:only-of-type {\n",
       "        vertical-align: middle;\n",
       "    }\n",
       "\n",
       "    .dataframe tbody tr th {\n",
       "        vertical-align: top;\n",
       "    }\n",
       "\n",
       "    .dataframe thead th {\n",
       "        text-align: right;\n",
       "    }\n",
       "</style>\n",
       "<table border=\"1\" class=\"dataframe\">\n",
       "  <thead>\n",
       "    <tr style=\"text-align: right;\">\n",
       "      <th></th>\n",
       "      <th>show_id</th>\n",
       "      <th>title</th>\n",
       "      <th>tags</th>\n",
       "    </tr>\n",
       "  </thead>\n",
       "  <tbody>\n",
       "    <tr>\n",
       "      <th>0</th>\n",
       "      <td>s8</td>\n",
       "      <td>Sankofa</td>\n",
       "      <td>photo shoot ghana  american model slip back ti...</td>\n",
       "    </tr>\n",
       "    <tr>\n",
       "      <th>1</th>\n",
       "      <td>s9</td>\n",
       "      <td>The Great British Baking Show</td>\n",
       "      <td>talent batch amateur baker face 10week competi...</td>\n",
       "    </tr>\n",
       "    <tr>\n",
       "      <th>2</th>\n",
       "      <td>s10</td>\n",
       "      <td>The Starling</td>\n",
       "      <td>woman adjust life loss contend feisti bird tak...</td>\n",
       "    </tr>\n",
       "    <tr>\n",
       "      <th>3</th>\n",
       "      <td>s13</td>\n",
       "      <td>Je Suis Karl</td>\n",
       "      <td>famili murder terrorist bomb  young woman unkn...</td>\n",
       "    </tr>\n",
       "    <tr>\n",
       "      <th>4</th>\n",
       "      <td>s25</td>\n",
       "      <td>Jeans</td>\n",
       "      <td>father man love insist twin son marri twin sis...</td>\n",
       "    </tr>\n",
       "  </tbody>\n",
       "</table>\n",
       "</div>"
      ],
      "text/plain": [
       "  show_id                          title   \n",
       "0      s8                        Sankofa  \\\n",
       "1      s9  The Great British Baking Show   \n",
       "2     s10                   The Starling   \n",
       "3     s13                   Je Suis Karl   \n",
       "4     s25                          Jeans   \n",
       "\n",
       "                                                tags  \n",
       "0  photo shoot ghana  american model slip back ti...  \n",
       "1  talent batch amateur baker face 10week competi...  \n",
       "2  woman adjust life loss contend feisti bird tak...  \n",
       "3  famili murder terrorist bomb  young woman unkn...  \n",
       "4  father man love insist twin son marri twin sis...  "
      ]
     },
     "execution_count": 34,
     "metadata": {},
     "output_type": "execute_result"
    }
   ],
   "source": [
    "ntflx.head()"
   ]
  },
  {
   "cell_type": "code",
   "execution_count": 35,
   "id": "7f4377f5",
   "metadata": {},
   "outputs": [],
   "source": [
    "from sklearn.feature_extraction.text import CountVectorizer"
   ]
  },
  {
   "cell_type": "code",
   "execution_count": 36,
   "id": "fbd66e2c",
   "metadata": {},
   "outputs": [],
   "source": [
    "cv=CountVectorizer(max_features=5000)"
   ]
  },
  {
   "cell_type": "code",
   "execution_count": 37,
   "id": "ed9ba040",
   "metadata": {},
   "outputs": [],
   "source": [
    "vectors=cv.fit_transform(ntflx['tags']).toarray()"
   ]
  },
  {
   "cell_type": "code",
   "execution_count": 38,
   "id": "16e1cac8",
   "metadata": {},
   "outputs": [
    {
     "data": {
      "text/plain": [
       "array([[0, 0, 0, ..., 0, 0, 0],\n",
       "       [0, 0, 0, ..., 0, 0, 0],\n",
       "       [0, 0, 0, ..., 0, 0, 0],\n",
       "       ...,\n",
       "       [0, 0, 0, ..., 0, 0, 0],\n",
       "       [0, 0, 0, ..., 0, 0, 0],\n",
       "       [0, 0, 0, ..., 0, 0, 0]], dtype=int64)"
      ]
     },
     "execution_count": 38,
     "metadata": {},
     "output_type": "execute_result"
    }
   ],
   "source": [
    "vectors"
   ]
  },
  {
   "cell_type": "code",
   "execution_count": 39,
   "id": "331369cb",
   "metadata": {},
   "outputs": [],
   "source": [
    "from sklearn.metrics.pairwise import cosine_similarity"
   ]
  },
  {
   "cell_type": "code",
   "execution_count": 40,
   "id": "a8f0530e",
   "metadata": {},
   "outputs": [],
   "source": [
    "similarity=cosine_similarity(vectors)"
   ]
  },
  {
   "cell_type": "code",
   "execution_count": 51,
   "id": "91e0d157",
   "metadata": {},
   "outputs": [
    {
     "data": {
      "text/plain": [
       "array([0.05423261, 0.        , 0.05423261, ..., 0.0559017 , 0.05129892,\n",
       "       0.04564355])"
      ]
     },
     "execution_count": 51,
     "metadata": {},
     "output_type": "execute_result"
    }
   ],
   "source": [
    "similarity[10]"
   ]
  },
  {
   "cell_type": "code",
   "execution_count": 42,
   "id": "b5ab1574",
   "metadata": {},
   "outputs": [],
   "source": [
    "def recommend(movie):\n",
    "    movie_index=ntflx[ntflx['title']==movie].index[0]\n",
    "    distances=similarity[movie_index]\n",
    "    movie_list=sorted(list(enumerate(distances)),reverse=True,key=lambda x:x[1])[1:6]\n",
    "    for i in movie_list:\n",
    "        print(ntflx.iloc[i[0]].title)"
   ]
  },
  {
   "cell_type": "code",
   "execution_count": 52,
   "id": "e12a4fde",
   "metadata": {},
   "outputs": [
    {
     "name": "stdout",
     "output_type": "stream",
     "text": [
      "Jaws: The Revenge\n",
      "Jaws 2\n",
      "Jaws 3\n",
      "Deep Blue Sea\n",
      "Saladin\n"
     ]
    }
   ],
   "source": [
    "recommend('Jaws')"
   ]
  },
  {
   "cell_type": "code",
   "execution_count": 44,
   "id": "33369da5",
   "metadata": {},
   "outputs": [
    {
     "data": {
      "text/html": [
       "<div>\n",
       "<style scoped>\n",
       "    .dataframe tbody tr th:only-of-type {\n",
       "        vertical-align: middle;\n",
       "    }\n",
       "\n",
       "    .dataframe tbody tr th {\n",
       "        vertical-align: top;\n",
       "    }\n",
       "\n",
       "    .dataframe thead th {\n",
       "        text-align: right;\n",
       "    }\n",
       "</style>\n",
       "<table border=\"1\" class=\"dataframe\">\n",
       "  <thead>\n",
       "    <tr style=\"text-align: right;\">\n",
       "      <th></th>\n",
       "      <th>show_id</th>\n",
       "      <th>title</th>\n",
       "      <th>tags</th>\n",
       "    </tr>\n",
       "  </thead>\n",
       "  <tbody>\n",
       "    <tr>\n",
       "      <th>0</th>\n",
       "      <td>s8</td>\n",
       "      <td>Sankofa</td>\n",
       "      <td>photo shoot ghana  american model slip back ti...</td>\n",
       "    </tr>\n",
       "    <tr>\n",
       "      <th>1</th>\n",
       "      <td>s9</td>\n",
       "      <td>The Great British Baking Show</td>\n",
       "      <td>talent batch amateur baker face 10week competi...</td>\n",
       "    </tr>\n",
       "    <tr>\n",
       "      <th>2</th>\n",
       "      <td>s10</td>\n",
       "      <td>The Starling</td>\n",
       "      <td>woman adjust life loss contend feisti bird tak...</td>\n",
       "    </tr>\n",
       "    <tr>\n",
       "      <th>3</th>\n",
       "      <td>s13</td>\n",
       "      <td>Je Suis Karl</td>\n",
       "      <td>famili murder terrorist bomb  young woman unkn...</td>\n",
       "    </tr>\n",
       "    <tr>\n",
       "      <th>4</th>\n",
       "      <td>s25</td>\n",
       "      <td>Jeans</td>\n",
       "      <td>father man love insist twin son marri twin sis...</td>\n",
       "    </tr>\n",
       "    <tr>\n",
       "      <th>5</th>\n",
       "      <td>s28</td>\n",
       "      <td>Grown Ups</td>\n",
       "      <td>mourn loss belov junior high basketbal coach  ...</td>\n",
       "    </tr>\n",
       "    <tr>\n",
       "      <th>6</th>\n",
       "      <td>s29</td>\n",
       "      <td>Dark Skies</td>\n",
       "      <td>famili ’ idyl suburban life shatter alien forc...</td>\n",
       "    </tr>\n",
       "    <tr>\n",
       "      <th>7</th>\n",
       "      <td>s30</td>\n",
       "      <td>Paranoia</td>\n",
       "      <td>blackmail compani ceo  lowlevel employe find f...</td>\n",
       "    </tr>\n",
       "    <tr>\n",
       "      <th>8</th>\n",
       "      <td>s39</td>\n",
       "      <td>Birth of the Dragon</td>\n",
       "      <td>young bruce lee anger kung fu traditionalist t...</td>\n",
       "    </tr>\n",
       "    <tr>\n",
       "      <th>9</th>\n",
       "      <td>s42</td>\n",
       "      <td>Jaws</td>\n",
       "      <td>insati great white shark terror amiti island  ...</td>\n",
       "    </tr>\n",
       "  </tbody>\n",
       "</table>\n",
       "</div>"
      ],
      "text/plain": [
       "  show_id                          title   \n",
       "0      s8                        Sankofa  \\\n",
       "1      s9  The Great British Baking Show   \n",
       "2     s10                   The Starling   \n",
       "3     s13                   Je Suis Karl   \n",
       "4     s25                          Jeans   \n",
       "5     s28                      Grown Ups   \n",
       "6     s29                     Dark Skies   \n",
       "7     s30                       Paranoia   \n",
       "8     s39            Birth of the Dragon   \n",
       "9     s42                           Jaws   \n",
       "\n",
       "                                                tags  \n",
       "0  photo shoot ghana  american model slip back ti...  \n",
       "1  talent batch amateur baker face 10week competi...  \n",
       "2  woman adjust life loss contend feisti bird tak...  \n",
       "3  famili murder terrorist bomb  young woman unkn...  \n",
       "4  father man love insist twin son marri twin sis...  \n",
       "5  mourn loss belov junior high basketbal coach  ...  \n",
       "6  famili ’ idyl suburban life shatter alien forc...  \n",
       "7  blackmail compani ceo  lowlevel employe find f...  \n",
       "8  young bruce lee anger kung fu traditionalist t...  \n",
       "9  insati great white shark terror amiti island  ...  "
      ]
     },
     "execution_count": 44,
     "metadata": {},
     "output_type": "execute_result"
    }
   ],
   "source": [
    "ntflx.head(10)"
   ]
  },
  {
   "cell_type": "code",
   "execution_count": 46,
   "id": "2db729c4",
   "metadata": {},
   "outputs": [],
   "source": [
    "import pickle"
   ]
  },
  {
   "cell_type": "code",
   "execution_count": 47,
   "id": "634fe0b0",
   "metadata": {},
   "outputs": [],
   "source": [
    "pickle.dump(ntflx,open('netflix.pkl','wb'))"
   ]
  },
  {
   "cell_type": "code",
   "execution_count": 48,
   "id": "8d144ff8",
   "metadata": {},
   "outputs": [
    {
     "data": {
      "text/plain": [
       "array(['Sankofa', 'The Great British Baking Show', 'The Starling', ...,\n",
       "       'Zombieland', 'Zoom', 'Zubaan'], dtype=object)"
      ]
     },
     "execution_count": 48,
     "metadata": {},
     "output_type": "execute_result"
    }
   ],
   "source": [
    "ntflx['title'].values"
   ]
  },
  {
   "cell_type": "code",
   "execution_count": 50,
   "id": "cb2d6f02",
   "metadata": {},
   "outputs": [],
   "source": [
    "pickle.dump(similarity,open('similarity.pkl','wb'))"
   ]
  },
  {
   "cell_type": "code",
   "execution_count": null,
   "id": "dd961cf2",
   "metadata": {},
   "outputs": [],
   "source": []
  }
 ],
 "metadata": {
  "kernelspec": {
   "display_name": "Python 3 (ipykernel)",
   "language": "python",
   "name": "python3"
  },
  "language_info": {
   "codemirror_mode": {
    "name": "ipython",
    "version": 3
   },
   "file_extension": ".py",
   "mimetype": "text/x-python",
   "name": "python",
   "nbconvert_exporter": "python",
   "pygments_lexer": "ipython3",
   "version": "3.11.2"
  }
 },
 "nbformat": 4,
 "nbformat_minor": 5
}
